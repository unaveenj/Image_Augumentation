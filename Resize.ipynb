{
 "cells": [
  {
   "cell_type": "code",
   "execution_count": 8,
   "metadata": {},
   "outputs": [],
   "source": [
    "import PIL\n",
    "import os\n",
    "import os.path\n",
    "from PIL import Image\n",
    "\n",
    "f = 'input/surprise'\n",
    "# for file in os.listdir(f):\n",
    "#     f_img = f+\"/\"+file\n",
    "#     img = Image.open(f_img)\n",
    "#     img.save(f_img)\n",
    "    \n",
    "    \n",
    "import cv2\n",
    "for file in os.listdir(f):\n",
    "    img = cv2.imread(os.path.join(f, file))\n",
    "    gray = cv2.cvtColor(img, cv2.COLOR_BGR2GRAY)\n",
    "    cv2.imwrite(os.path.join(f, file), gray)"
   ]
  },
  {
   "cell_type": "code",
   "execution_count": 13,
   "metadata": {},
   "outputs": [],
   "source": [
    "import splitfolders  # or import split_folders\n",
    "f = 'fear'\n",
    "f_t=f'{f}_test'\n",
    "# Split with a ratio.\n",
    "# To only split into training and validation set, set a tuple to `ratio`, i.e, `(.8, .2)`.\n",
    "splitfolders.ratio(f\"{f}\", output=f\"{f_t}\", seed=1337, ratio=(.8, .2), group_prefix=None) # default values\n"
   ]
  }
 ],
 "metadata": {
  "kernelspec": {
   "display_name": "Python 3",
   "language": "python",
   "name": "python3"
  },
  "language_info": {
   "codemirror_mode": {
    "name": "ipython",
    "version": 3
   },
   "file_extension": ".py",
   "mimetype": "text/x-python",
   "name": "python",
   "nbconvert_exporter": "python",
   "pygments_lexer": "ipython3",
   "version": "3.7.7"
  }
 },
 "nbformat": 4,
 "nbformat_minor": 4
}
